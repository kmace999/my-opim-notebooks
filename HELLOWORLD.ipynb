{
  "nbformat": 4,
  "nbformat_minor": 0,
  "metadata": {
    "colab": {
      "name": "HELLOWORLD.ipynb",
      "provenance": [],
      "authorship_tag": "ABX9TyP9hZZhgGTdXBMhMfJokRh1",
      "include_colab_link": true
    },
    "kernelspec": {
      "name": "python3",
      "display_name": "Python 3"
    }
  },
  "cells": [
    {
      "cell_type": "markdown",
      "metadata": {
        "id": "view-in-github",
        "colab_type": "text"
      },
      "source": [
        "<a href=\"https://colab.research.google.com/github/kmace999/my-opim-notebooks/blob/main/HELLOWORLD.ipynb\" target=\"_parent\"><img src=\"https://colab.research.google.com/assets/colab-badge.svg\" alt=\"Open In Colab\"/></a>"
      ]
    },
    {
      "cell_type": "code",
      "metadata": {
        "colab": {
          "base_uri": "https://localhost:8080/"
        },
        "id": "4obgdJfayyUP",
        "outputId": "ba728173-767d-484f-a7b3-8855b17277ee"
      },
      "source": [
        "print(\"HELLO WORLD!\")\r\n",
        "\r\n",
        "x = 2 + 2\r\n",
        "print(x)"
      ],
      "execution_count": 2,
      "outputs": [
        {
          "output_type": "stream",
          "text": [
            "HELLO WORLD\n",
            "4\n"
          ],
          "name": "stdout"
        }
      ]
    },
    {
      "cell_type": "markdown",
      "metadata": {
        "id": "KLE9RAraz41z"
      },
      "source": [
        "# My First Notebook!\r\n",
        "\r\n",
        "This is a text cell. It uses the markdown language. The line above is a heading, starting with the # sign. Don't be confused that # means something different in .md and .py files.\r\n",
        "\r\n",
        "We can make links like [this](https://github.com/prof-rossetti/intro-to-python).\r\n",
        "\r\n",
        "And lists too:\r\n",
        "\r\n",
        "  + Item 1\r\n",
        "  + Item 2\r\n",
        "  + Item 3\r\n",
        "\r\n",
        "For more information about Markdown syntax, see the [Markdown Guide](https://guides.github.com/pdfs/markdown-cheatsheet-online.pdf)."
      ]
    }
  ]
}